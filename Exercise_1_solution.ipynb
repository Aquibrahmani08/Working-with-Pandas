{
 "cells": [
  {
   "cell_type": "code",
   "execution_count": 6,
   "id": "e5a299b2",
   "metadata": {},
   "outputs": [
    {
     "name": "stdout",
     "output_type": "stream",
     "text": [
      "                     title  year\n",
      "0           The Rising Son  1990\n",
      "1  The Thousand Plane Raid  1969\n",
      "2         Crucea de piatra  1993\n",
      "3                  Country  2000\n",
      "4               Gaiking II  2011\n"
     ]
    }
   ],
   "source": [
    "import pandas as pd\n",
    "url='https://raw.githubusercontent.com/DataScience75/Top_mentor_projects_Datasets/main/titles.csv'\n",
    "\n",
    "title=pd.read_csv(url)\n",
    "print(title.head())\n"
   ]
  },
  {
   "cell_type": "code",
   "execution_count": 11,
   "id": "5bcf95f1",
   "metadata": {},
   "outputs": [
    {
     "data": {
      "text/plain": [
       "230620"
      ]
     },
     "execution_count": 11,
     "metadata": {},
     "output_type": "execute_result"
    }
   ],
   "source": [
    "### How many movies are listed in the titles dataframe?\n",
    "t=title.copy()\n",
    "t['title'].count()"
   ]
  },
  {
   "cell_type": "code",
   "execution_count": 20,
   "id": "257dd4a2",
   "metadata": {},
   "outputs": [
    {
     "name": "stdout",
     "output_type": "stream",
     "text": [
      "                     title  year\n",
      "176477          Miss Jerry  1894\n",
      "213694  The Startled Lover  1898\n"
     ]
    }
   ],
   "source": [
    "### What are the earliest two films listed in the titles dataframe?\n",
    "t=t.sort_values('year')\n",
    "print(t.head(2))\n"
   ]
  },
  {
   "cell_type": "code",
   "execution_count": 25,
   "id": "7ab20f4d",
   "metadata": {},
   "outputs": [
    {
     "name": "stdout",
     "output_type": "stream",
     "text": [
      "18\n"
     ]
    }
   ],
   "source": [
    "### How many movies have the title \\\"Hamlet\\\"?\n",
    "print(len(t[t['title']=='Hamlet']))"
   ]
  },
  {
   "cell_type": "code",
   "execution_count": 28,
   "id": "8633cc66",
   "metadata": {},
   "outputs": [
    {
     "name": "stdout",
     "output_type": "stream",
     "text": [
      "1\n"
     ]
    }
   ],
   "source": [
    "###How many movies are titled \\\"North by Northwest\\\"?\n",
    "print(len(t[t['title']=='North by Northwest']))"
   ]
  },
  {
   "cell_type": "code",
   "execution_count": 31,
   "id": "d881eabb",
   "metadata": {},
   "outputs": [
    {
     "name": "stdout",
     "output_type": "stream",
     "text": [
      "        title  year\n",
      "46365  Hamlet  1910\n"
     ]
    }
   ],
   "source": [
    "#When was the first movie titled \\\"Hamlet\\\" made?\n",
    "print((t[t['title']=='Hamlet']).head(1))"
   ]
  },
  {
   "cell_type": "code",
   "execution_count": 32,
   "id": "03332987",
   "metadata": {},
   "outputs": [
    {
     "name": "stdout",
     "output_type": "stream",
     "text": [
      "                  title  year\n",
      "204540  Treasure Island  1918\n",
      "50896   Treasure Island  1920\n",
      "189691  Treasure Island  1934\n",
      "96259   Treasure Island  1950\n",
      "59186   Treasure Island  1972\n",
      "110576  Treasure Island  1973\n",
      "203909  Treasure Island  1985\n",
      "178072  Treasure Island  1999\n"
     ]
    }
   ],
   "source": [
    "### List all of the \\\"Treasure Island\\\" movies from earliest to most recent.\n",
    "print((t[t['title']=='Treasure Island']))"
   ]
  },
  {
   "cell_type": "code",
   "execution_count": 34,
   "id": "5300ffcd",
   "metadata": {},
   "outputs": [
    {
     "name": "stdout",
     "output_type": "stream",
     "text": [
      "1093\n"
     ]
    }
   ],
   "source": [
    "### How many movies were made in the year 1950?\n",
    "print(len(t[t['year']==1950]))"
   ]
  },
  {
   "cell_type": "code",
   "execution_count": 35,
   "id": "8e42571a",
   "metadata": {},
   "outputs": [
    {
     "name": "stdout",
     "output_type": "stream",
     "text": [
      "1496\n"
     ]
    }
   ],
   "source": [
    "## How many movies were made in the year 1960?\n",
    "print(len(t[t['year']==1960]))"
   ]
  },
  {
   "cell_type": "code",
   "execution_count": 37,
   "id": "42cfe2e6",
   "metadata": {},
   "outputs": [
    {
     "name": "stdout",
     "output_type": "stream",
     "text": [
      "12656\n"
     ]
    }
   ],
   "source": [
    "## How many movies were made from 1950 through 1959?\n",
    "print(len(t[(t['year'] >= 1950) & (t['year'] <= 1959)]))"
   ]
  },
  {
   "cell_type": "code",
   "execution_count": 38,
   "id": "c8630a64",
   "metadata": {},
   "outputs": [
    {
     "name": "stdout",
     "output_type": "stream",
     "text": [
      "        title  year\n",
      "74047  Batman  1943\n",
      "55577  Batman  1989\n"
     ]
    }
   ],
   "source": [
    "## In what years has a movie titled \\\"Batman\\\" been released?\n",
    "print(t[t['title']==\"Batman\"])"
   ]
  },
  {
   "cell_type": "code",
   "execution_count": 1,
   "id": "ac50e9d0",
   "metadata": {},
   "outputs": [
    {
     "name": "stdout",
     "output_type": "stream",
     "text": [
      "                  title  year      name   type                character     n\n",
      "0        Closet Monster  2015  Buffy #1  actor                  Buffy 4   NaN\n",
      "1       Suuri illusioni  1985    Homo $  actor                   Guests  22.0\n",
      "2   Battle of the Sexes  2017   $hutter  actor          Bobby Riggs Fan  10.0\n",
      "3  Secret in Their Eyes  2015   $hutter  actor          2002 Dodger Fan   NaN\n",
      "4            Steve Jobs  2015   $hutter  actor  1988 Opera House Patron   NaN\n"
     ]
    }
   ],
   "source": [
    "#cast dataframe\n",
    "import pandas as pd\n",
    "cas='C:/Users/mohda/Downloads/cast.csv'\n",
    "cast=pd.read_csv(cas)\n",
    "print(cast.head())"
   ]
  },
  {
   "cell_type": "code",
   "execution_count": 2,
   "id": "2e889bc1",
   "metadata": {},
   "outputs": [
    {
     "name": "stdout",
     "output_type": "stream",
     "text": [
      "55\n"
     ]
    }
   ],
   "source": [
    "#copy of main data\n",
    "# How many roles were there in the movie \\\"Inception\\\"?\n",
    "c=cast.copy()\n",
    "inception_roles = c[c['title'] == 'Inception']['character']\n",
    "num_roles = len(inception_roles.unique())\n",
    "print(num_roles)"
   ]
  },
  {
   "cell_type": "code",
   "execution_count": 11,
   "id": "44553c11",
   "metadata": {},
   "outputs": [
    {
     "name": "stdout",
     "output_type": "stream",
     "text": [
      "26\n"
     ]
    }
   ],
   "source": [
    "# How many roles in the movie \"Inception\" are NOT ranked by an \"n\" value?\n",
    "without_rank=len(c[(c['title'] == 'Inception') & (c['n'].isna())])\n",
    "print(without_rank)"
   ]
  },
  {
   "cell_type": "code",
   "execution_count": 12,
   "id": "e13a94bb",
   "metadata": {},
   "outputs": [
    {
     "name": "stdout",
     "output_type": "stream",
     "text": [
      "29\n"
     ]
    }
   ],
   "source": [
    "# But how many roles in the movie \"Inception\" did receive an \"n\" value?\n",
    "with_rank=num_roles-without_rank\n",
    "print(with_rank)"
   ]
  },
  {
   "cell_type": "code",
   "execution_count": 26,
   "id": "d029e7c8",
   "metadata": {
    "collapsed": true
   },
   "outputs": [
    {
     "name": "stdout",
     "output_type": "stream",
     "text": [
      "                                                     title  year  \\\n",
      "1                                          Suuri illusioni  1985   \n",
      "2                                      Battle of the Sexes  2017   \n",
      "8        Lapis, Ballpen at Diploma, a True to Life Journey  2014   \n",
      "10                                 When the Man Went South  2014   \n",
      "11                                 Little Angel (Angelita)  2015   \n",
      "...                                                    ...   ...   \n",
      "3611206                                     Stuttur Frakki  1993   \n",
      "3611207                                            Foxtrot  1988   \n",
      "3611208                   Niceland (Population. 1.000.002)  2004   \n",
      "3611209                                          Skammdegi  1985   \n",
      "3611210                                       U.S.S.S.S...  2003   \n",
      "\n",
      "                                name     type               character     n  \n",
      "1                             Homo $    actor                  Guests  22.0  \n",
      "2                            $hutter    actor         Bobby Riggs Fan  10.0  \n",
      "8          Jori ' Danilo' Jurado Jr.    actor           Jaime (young)   9.0  \n",
      "10                Taipaleti 'Atu'ake    actor  Two Palms - Ua'i Paame   8.0  \n",
      "11        Michael 'babeepower' Viera    actor                   Chico   9.0  \n",
      "...                              ...      ...                     ...   ...  \n",
      "3611206    Sveinbj?rg ??rhallsd?ttir  actress              Flugfreyja  24.0  \n",
      "3611207            Lilja ??risd?ttir  actress                    D?ra  24.0  \n",
      "3611208    Sigr??ur J?na ??risd?ttir  actress            Woman in Bus  26.0  \n",
      "3611209           Dalla ??r?ard?ttir  actress           Hj?krunarkona   9.0  \n",
      "3611210  Krist?n Andrea ??r?ard?ttir  actress  Afgr.dama ? bens?nst??  17.0  \n",
      "\n",
      "[2231970 rows x 6 columns]\n"
     ]
    }
   ],
   "source": [
    "### Display the cast of \"North by Northwest\" in their correct \"n\"-value order, ignoring roles that did not earn a \n",
    "##numeric \"n\" value.\n",
    "north_cast = c[(c['title'] == 'North by Northwest') & (c['n'].isna())]\n",
    "d=c.fillna(0)\n",
    "e=d[d['n']!=0]\n",
    "e.sort_values(by='n')\n",
    "print(e)\n",
    "\n",
    "\n"
   ]
  },
  {
   "cell_type": "code",
   "execution_count": 30,
   "id": "c3d278f8",
   "metadata": {
    "collapsed": true
   },
   "outputs": [
    {
     "name": "stdout",
     "output_type": "stream",
     "text": [
      "          title  year                name     type  \\\n",
      "1644328  Sleuth  1972    Laurence Olivier    actor   \n",
      "314691   Sleuth  1972       Michael Caine    actor   \n",
      "360365   Sleuth  1972      Alec Cawthorne    actor   \n",
      "1412647  Sleuth  1972  John (II) Matthews    actor   \n",
      "2619278  Sleuth  1972  Eve (III) Channing  actress   \n",
      "1396572  Sleuth  1972        Teddy Martin    actor   \n",
      "\n",
      "                          character    n  \n",
      "1644328                 Andrew Wyke  1.0  \n",
      "314691                  Milo Tindle  2.0  \n",
      "360365            Inspector Doppler  3.0  \n",
      "1412647  Detective Sergeant Tarrant  4.0  \n",
      "2619278             Marguerite Wyke  5.0  \n",
      "1396572      Police Constable Higgs  6.0  \n"
     ]
    }
   ],
   "source": [
    "### Display the entire cast, in \"n\"-order, of the 1972 film \"Sleuth\".\n",
    "a=c[(c['title']==\"Sleuth\")&(c['year']==1972)]\n",
    "b=a.sort_values(by='n')\n",
    "print(b)    "
   ]
  },
  {
   "cell_type": "code",
   "execution_count": 32,
   "id": "fda032d7",
   "metadata": {
    "collapsed": true
   },
   "outputs": [
    {
     "name": "stdout",
     "output_type": "stream",
     "text": [
      "          title  year                name     type  \\\n",
      "1644328  Sleuth  1972    Laurence Olivier    actor   \n",
      "314691   Sleuth  1972       Michael Caine    actor   \n",
      "360365   Sleuth  1972      Alec Cawthorne    actor   \n",
      "1412647  Sleuth  1972  John (II) Matthews    actor   \n",
      "2619278  Sleuth  1972  Eve (III) Channing  actress   \n",
      "1396572  Sleuth  1972        Teddy Martin    actor   \n",
      "\n",
      "                          character    n  \n",
      "1644328                 Andrew Wyke  1.0  \n",
      "314691                  Milo Tindle  2.0  \n",
      "360365            Inspector Doppler  3.0  \n",
      "1412647  Detective Sergeant Tarrant  4.0  \n",
      "2619278             Marguerite Wyke  5.0  \n",
      "1396572      Police Constable Higgs  6.0  \n"
     ]
    }
   ],
   "source": [
    "### Now display the entire cast, in \"n\"-order, of the 2007 version of \"Sleuth\".\n",
    "d=c[(c['title']==\"Sleuth\")&(c['year']==2007)]\n",
    "e=a.sort_values(by='n')\n",
    "print(e) "
   ]
  },
  {
   "cell_type": "code",
   "execution_count": 37,
   "id": "9df15b1c",
   "metadata": {
    "scrolled": true
   },
   "outputs": [
    {
     "name": "stdout",
     "output_type": "stream",
     "text": [
      "9\n"
     ]
    }
   ],
   "source": [
    "### How many roles were credited in the silent 1921 version of Hamlet?\n",
    "hamlet_roles = c[(c['title'] == 'Hamlet') & (c['year']==1921)]['character']\n",
    "roles = len(hamlet_roles.unique())\n",
    "print(roles)\n"
   ]
  },
  {
   "cell_type": "code",
   "execution_count": 7,
   "id": "1d403b2c",
   "metadata": {},
   "outputs": [
    {
     "name": "stdout",
     "output_type": "stream",
     "text": [
      "54\n"
     ]
    }
   ],
   "source": [
    "### How many roles were credited in Branagh’s 1996 Hamlet?\n",
    "hamlet_roles1 = c[(c['title'] == 'Hamlet') & (c['year']==1996)]\n",
    "\n",
    "print(len(hamlet_roles1))"
   ]
  },
  {
   "cell_type": "code",
   "execution_count": 14,
   "id": "a72453be",
   "metadata": {},
   "outputs": [
    {
     "name": "stdout",
     "output_type": "stream",
     "text": [
      "91\n"
     ]
    }
   ],
   "source": [
    "##How many \"Hamlet\" roles have been listed in all film credits through history?\n",
    "print(len(c[c['character']=='Hamlet']))"
   ]
  },
  {
   "cell_type": "code",
   "execution_count": 15,
   "id": "286a1ba1",
   "metadata": {},
   "outputs": [
    {
     "name": "stdout",
     "output_type": "stream",
     "text": [
      "111\n"
     ]
    }
   ],
   "source": [
    "### How many people have played an \"Ophelia\"?\n",
    "print(len(c[c['character']==\"Ophelia\"]))"
   ]
  },
  {
   "cell_type": "code",
   "execution_count": 16,
   "id": "029cd585",
   "metadata": {},
   "outputs": [
    {
     "name": "stdout",
     "output_type": "stream",
     "text": [
      "18\n"
     ]
    }
   ],
   "source": [
    "## How many people have played a role called \"The Dude\"?\n",
    "print(len(c[c['character']==\"The Dude\"]))"
   ]
  },
  {
   "cell_type": "code",
   "execution_count": 17,
   "id": "f05380e4",
   "metadata": {},
   "outputs": [
    {
     "name": "stdout",
     "output_type": "stream",
     "text": [
      "208\n"
     ]
    }
   ],
   "source": [
    "## How many people have played a role called \"The Stranger\"?\n",
    "print(len(c[c['character']==\"The Stranger\"]))"
   ]
  },
  {
   "cell_type": "code",
   "execution_count": 19,
   "id": "ab006fa5",
   "metadata": {},
   "outputs": [
    {
     "name": "stdout",
     "output_type": "stream",
     "text": [
      "43\n"
     ]
    }
   ],
   "source": [
    "# How many roles has Sidney Poitier played throughout his career?\n",
    "print(len(c[c['name']==\"Sidney Poitier\"]))"
   ]
  },
  {
   "cell_type": "code",
   "execution_count": 20,
   "id": "5c52c60c",
   "metadata": {},
   "outputs": [
    {
     "name": "stdout",
     "output_type": "stream",
     "text": [
      "55\n"
     ]
    }
   ],
   "source": [
    "## How many roles has Judi Dench played?\n",
    "print(len(c[c['name']==\"Judi Dench\"]))"
   ]
  },
  {
   "cell_type": "code",
   "execution_count": 29,
   "id": "fa3d0c33",
   "metadata": {},
   "outputs": [
    {
     "data": {
      "text/html": [
       "<div>\n",
       "<style scoped>\n",
       "    .dataframe tbody tr th:only-of-type {\n",
       "        vertical-align: middle;\n",
       "    }\n",
       "\n",
       "    .dataframe tbody tr th {\n",
       "        vertical-align: top;\n",
       "    }\n",
       "\n",
       "    .dataframe thead th {\n",
       "        text-align: right;\n",
       "    }\n",
       "</style>\n",
       "<table border=\"1\" class=\"dataframe\">\n",
       "  <thead>\n",
       "    <tr style=\"text-align: right;\">\n",
       "      <th></th>\n",
       "      <th>title</th>\n",
       "      <th>year</th>\n",
       "      <th>name</th>\n",
       "      <th>type</th>\n",
       "      <th>character</th>\n",
       "      <th>n</th>\n",
       "    </tr>\n",
       "  </thead>\n",
       "  <tbody>\n",
       "    <tr>\n",
       "      <th>840371</th>\n",
       "      <td>My Favorite Wife</td>\n",
       "      <td>1940</td>\n",
       "      <td>Cary Grant</td>\n",
       "      <td>actor</td>\n",
       "      <td>Nick</td>\n",
       "      <td>2.0</td>\n",
       "    </tr>\n",
       "    <tr>\n",
       "      <th>840381</th>\n",
       "      <td>Penny Serenade</td>\n",
       "      <td>1941</td>\n",
       "      <td>Cary Grant</td>\n",
       "      <td>actor</td>\n",
       "      <td>Roger Adams</td>\n",
       "      <td>2.0</td>\n",
       "    </tr>\n",
       "  </tbody>\n",
       "</table>\n",
       "</div>"
      ],
      "text/plain": [
       "                   title  year        name   type    character    n\n",
       "840371  My Favorite Wife  1940  Cary Grant  actor         Nick  2.0\n",
       "840381    Penny Serenade  1941  Cary Grant  actor  Roger Adams  2.0"
      ]
     },
     "execution_count": 29,
     "metadata": {},
     "output_type": "execute_result"
    }
   ],
   "source": [
    "# List the supporting roles (having n=2) played by Cary Grant in the 1940s, in order by year.\n",
    "\n",
    "c[(c['name']=='Cary Grant') & (c['year']>=1940) & (c['n']==2)]"
   ]
  },
  {
   "cell_type": "code",
   "execution_count": 35,
   "id": "d95b3cec",
   "metadata": {
    "scrolled": true
   },
   "outputs": [
    {
     "data": {
      "text/html": [
       "<div>\n",
       "<style scoped>\n",
       "    .dataframe tbody tr th:only-of-type {\n",
       "        vertical-align: middle;\n",
       "    }\n",
       "\n",
       "    .dataframe tbody tr th {\n",
       "        vertical-align: top;\n",
       "    }\n",
       "\n",
       "    .dataframe thead th {\n",
       "        text-align: right;\n",
       "    }\n",
       "</style>\n",
       "<table border=\"1\" class=\"dataframe\">\n",
       "  <thead>\n",
       "    <tr style=\"text-align: right;\">\n",
       "      <th></th>\n",
       "      <th>title</th>\n",
       "      <th>year</th>\n",
       "      <th>name</th>\n",
       "      <th>type</th>\n",
       "      <th>character</th>\n",
       "      <th>n</th>\n",
       "    </tr>\n",
       "  </thead>\n",
       "  <tbody>\n",
       "    <tr>\n",
       "      <th>840399</th>\n",
       "      <td>The Philadelphia Story</td>\n",
       "      <td>1940</td>\n",
       "      <td>Cary Grant</td>\n",
       "      <td>actor</td>\n",
       "      <td>C. K. Dexter Haven</td>\n",
       "      <td>1.0</td>\n",
       "    </tr>\n",
       "    <tr>\n",
       "      <th>840397</th>\n",
       "      <td>The Howards of Virginia</td>\n",
       "      <td>1940</td>\n",
       "      <td>Cary Grant</td>\n",
       "      <td>actor</td>\n",
       "      <td>Matt Howard</td>\n",
       "      <td>1.0</td>\n",
       "    </tr>\n",
       "    <tr>\n",
       "      <th>840353</th>\n",
       "      <td>His Girl Friday</td>\n",
       "      <td>1940</td>\n",
       "      <td>Cary Grant</td>\n",
       "      <td>actor</td>\n",
       "      <td>Walter Burns</td>\n",
       "      <td>1.0</td>\n",
       "    </tr>\n",
       "    <tr>\n",
       "      <th>840371</th>\n",
       "      <td>My Favorite Wife</td>\n",
       "      <td>1940</td>\n",
       "      <td>Cary Grant</td>\n",
       "      <td>actor</td>\n",
       "      <td>Nick</td>\n",
       "      <td>2.0</td>\n",
       "    </tr>\n",
       "    <tr>\n",
       "      <th>840386</th>\n",
       "      <td>Suspicion</td>\n",
       "      <td>1941</td>\n",
       "      <td>Cary Grant</td>\n",
       "      <td>actor</td>\n",
       "      <td>Johnnie</td>\n",
       "      <td>1.0</td>\n",
       "    </tr>\n",
       "    <tr>\n",
       "      <th>840381</th>\n",
       "      <td>Penny Serenade</td>\n",
       "      <td>1941</td>\n",
       "      <td>Cary Grant</td>\n",
       "      <td>actor</td>\n",
       "      <td>Roger Adams</td>\n",
       "      <td>2.0</td>\n",
       "    </tr>\n",
       "    <tr>\n",
       "      <th>840401</th>\n",
       "      <td>The Talk of the Town</td>\n",
       "      <td>1942</td>\n",
       "      <td>Cary Grant</td>\n",
       "      <td>actor</td>\n",
       "      <td>Leopold Dilg</td>\n",
       "      <td>1.0</td>\n",
       "    </tr>\n",
       "    <tr>\n",
       "      <th>840377</th>\n",
       "      <td>Once Upon a Honeymoon</td>\n",
       "      <td>1942</td>\n",
       "      <td>Cary Grant</td>\n",
       "      <td>actor</td>\n",
       "      <td>Patrick 'Pat' O'Toole</td>\n",
       "      <td>1.0</td>\n",
       "    </tr>\n",
       "    <tr>\n",
       "      <th>840344</th>\n",
       "      <td>Destination Tokyo</td>\n",
       "      <td>1943</td>\n",
       "      <td>Cary Grant</td>\n",
       "      <td>actor</td>\n",
       "      <td>Capt. Cassidy</td>\n",
       "      <td>1.0</td>\n",
       "    </tr>\n",
       "    <tr>\n",
       "      <th>840369</th>\n",
       "      <td>Mr. Lucky</td>\n",
       "      <td>1943</td>\n",
       "      <td>Cary Grant</td>\n",
       "      <td>actor</td>\n",
       "      <td>Joe Adams</td>\n",
       "      <td>1.0</td>\n",
       "    </tr>\n",
       "    <tr>\n",
       "      <th>840370</th>\n",
       "      <td>Mr. Lucky</td>\n",
       "      <td>1943</td>\n",
       "      <td>Cary Grant</td>\n",
       "      <td>actor</td>\n",
       "      <td>Joe Bascopolous</td>\n",
       "      <td>1.0</td>\n",
       "    </tr>\n",
       "    <tr>\n",
       "      <th>840336</th>\n",
       "      <td>Arsenic and Old Lace</td>\n",
       "      <td>1944</td>\n",
       "      <td>Cary Grant</td>\n",
       "      <td>actor</td>\n",
       "      <td>Mortimer Brewster</td>\n",
       "      <td>1.0</td>\n",
       "    </tr>\n",
       "    <tr>\n",
       "      <th>840378</th>\n",
       "      <td>Once Upon a Time</td>\n",
       "      <td>1944</td>\n",
       "      <td>Cary Grant</td>\n",
       "      <td>actor</td>\n",
       "      <td>Jerry Flynn</td>\n",
       "      <td>1.0</td>\n",
       "    </tr>\n",
       "    <tr>\n",
       "      <th>840373</th>\n",
       "      <td>None But the Lonely Heart</td>\n",
       "      <td>1944</td>\n",
       "      <td>Cary Grant</td>\n",
       "      <td>actor</td>\n",
       "      <td>Ernie Mott</td>\n",
       "      <td>1.0</td>\n",
       "    </tr>\n",
       "    <tr>\n",
       "      <th>840351</th>\n",
       "      <td>George White's Scandals</td>\n",
       "      <td>1945</td>\n",
       "      <td>Cary Grant</td>\n",
       "      <td>actor</td>\n",
       "      <td>Cary Grant</td>\n",
       "      <td>NaN</td>\n",
       "    </tr>\n",
       "    <tr>\n",
       "      <th>840372</th>\n",
       "      <td>Night and Day</td>\n",
       "      <td>1946</td>\n",
       "      <td>Cary Grant</td>\n",
       "      <td>actor</td>\n",
       "      <td>Cole Porter</td>\n",
       "      <td>1.0</td>\n",
       "    </tr>\n",
       "    <tr>\n",
       "      <th>840375</th>\n",
       "      <td>Notorious</td>\n",
       "      <td>1946</td>\n",
       "      <td>Cary Grant</td>\n",
       "      <td>actor</td>\n",
       "      <td>Devlin</td>\n",
       "      <td>1.0</td>\n",
       "    </tr>\n",
       "    <tr>\n",
       "      <th>840415</th>\n",
       "      <td>Without Reservations</td>\n",
       "      <td>1946</td>\n",
       "      <td>Cary Grant</td>\n",
       "      <td>actor</td>\n",
       "      <td>Cary Grant</td>\n",
       "      <td>NaN</td>\n",
       "    </tr>\n",
       "    <tr>\n",
       "      <th>840393</th>\n",
       "      <td>The Bachelor and the Bobby-Soxer</td>\n",
       "      <td>1947</td>\n",
       "      <td>Cary Grant</td>\n",
       "      <td>actor</td>\n",
       "      <td>Dick Nugent</td>\n",
       "      <td>1.0</td>\n",
       "    </tr>\n",
       "    <tr>\n",
       "      <th>840394</th>\n",
       "      <td>The Bishop's Wife</td>\n",
       "      <td>1947</td>\n",
       "      <td>Cary Grant</td>\n",
       "      <td>actor</td>\n",
       "      <td>Dudley</td>\n",
       "      <td>1.0</td>\n",
       "    </tr>\n",
       "    <tr>\n",
       "      <th>840368</th>\n",
       "      <td>Mr. Blandings Builds His Dream House</td>\n",
       "      <td>1948</td>\n",
       "      <td>Cary Grant</td>\n",
       "      <td>actor</td>\n",
       "      <td>Jim Blandings</td>\n",
       "      <td>1.0</td>\n",
       "    </tr>\n",
       "    <tr>\n",
       "      <th>840348</th>\n",
       "      <td>Every Girl Should Be Married</td>\n",
       "      <td>1948</td>\n",
       "      <td>Cary Grant</td>\n",
       "      <td>actor</td>\n",
       "      <td>Dr. Madison Brown</td>\n",
       "      <td>1.0</td>\n",
       "    </tr>\n",
       "    <tr>\n",
       "      <th>840357</th>\n",
       "      <td>I Was a Male War Bride</td>\n",
       "      <td>1949</td>\n",
       "      <td>Cary Grant</td>\n",
       "      <td>actor</td>\n",
       "      <td>Captain Henri Rochard</td>\n",
       "      <td>1.0</td>\n",
       "    </tr>\n",
       "  </tbody>\n",
       "</table>\n",
       "</div>"
      ],
      "text/plain": [
       "                                       title  year        name   type  \\\n",
       "840399                The Philadelphia Story  1940  Cary Grant  actor   \n",
       "840397               The Howards of Virginia  1940  Cary Grant  actor   \n",
       "840353                       His Girl Friday  1940  Cary Grant  actor   \n",
       "840371                      My Favorite Wife  1940  Cary Grant  actor   \n",
       "840386                             Suspicion  1941  Cary Grant  actor   \n",
       "840381                        Penny Serenade  1941  Cary Grant  actor   \n",
       "840401                  The Talk of the Town  1942  Cary Grant  actor   \n",
       "840377                 Once Upon a Honeymoon  1942  Cary Grant  actor   \n",
       "840344                     Destination Tokyo  1943  Cary Grant  actor   \n",
       "840369                             Mr. Lucky  1943  Cary Grant  actor   \n",
       "840370                             Mr. Lucky  1943  Cary Grant  actor   \n",
       "840336                  Arsenic and Old Lace  1944  Cary Grant  actor   \n",
       "840378                      Once Upon a Time  1944  Cary Grant  actor   \n",
       "840373             None But the Lonely Heart  1944  Cary Grant  actor   \n",
       "840351               George White's Scandals  1945  Cary Grant  actor   \n",
       "840372                         Night and Day  1946  Cary Grant  actor   \n",
       "840375                             Notorious  1946  Cary Grant  actor   \n",
       "840415                  Without Reservations  1946  Cary Grant  actor   \n",
       "840393      The Bachelor and the Bobby-Soxer  1947  Cary Grant  actor   \n",
       "840394                     The Bishop's Wife  1947  Cary Grant  actor   \n",
       "840368  Mr. Blandings Builds His Dream House  1948  Cary Grant  actor   \n",
       "840348          Every Girl Should Be Married  1948  Cary Grant  actor   \n",
       "840357                I Was a Male War Bride  1949  Cary Grant  actor   \n",
       "\n",
       "                    character    n  \n",
       "840399     C. K. Dexter Haven  1.0  \n",
       "840397            Matt Howard  1.0  \n",
       "840353           Walter Burns  1.0  \n",
       "840371                   Nick  2.0  \n",
       "840386                Johnnie  1.0  \n",
       "840381            Roger Adams  2.0  \n",
       "840401           Leopold Dilg  1.0  \n",
       "840377  Patrick 'Pat' O'Toole  1.0  \n",
       "840344          Capt. Cassidy  1.0  \n",
       "840369              Joe Adams  1.0  \n",
       "840370        Joe Bascopolous  1.0  \n",
       "840336      Mortimer Brewster  1.0  \n",
       "840378            Jerry Flynn  1.0  \n",
       "840373             Ernie Mott  1.0  \n",
       "840351             Cary Grant  NaN  \n",
       "840372            Cole Porter  1.0  \n",
       "840375                 Devlin  1.0  \n",
       "840415             Cary Grant  NaN  \n",
       "840393            Dick Nugent  1.0  \n",
       "840394                 Dudley  1.0  \n",
       "840368          Jim Blandings  1.0  \n",
       "840348      Dr. Madison Brown  1.0  \n",
       "840357  Captain Henri Rochard  1.0  "
      ]
     },
     "execution_count": 35,
     "metadata": {},
     "output_type": "execute_result"
    }
   ],
   "source": [
    "# List the leading roles that Cary Grant played in the 1940s in order by year.\n",
    "\n",
    "print((c[(c['name']=='Cary Grant') & (c['year']>=1940)& (c['year']<=1949)]).sort_values(by='year'))"
   ]
  },
  {
   "cell_type": "code",
   "execution_count": 36,
   "id": "a2cd2ed2",
   "metadata": {},
   "outputs": [
    {
     "name": "stdout",
     "output_type": "stream",
     "text": [
      "154727\n"
     ]
    }
   ],
   "source": [
    "# How many roles were available for actors in the 1950s?\n",
    "print(len(c[(c['type']=='actor') & (c['year']>=1950) & (c['year']<=1959)]))"
   ]
  },
  {
   "cell_type": "code",
   "execution_count": 44,
   "id": "187521f3",
   "metadata": {},
   "outputs": [
    {
     "name": "stdout",
     "output_type": "stream",
     "text": [
      "56259\n"
     ]
    }
   ],
   "source": [
    "# How many roles were available for actresses in the 1950s?\n",
    "\n",
    "print(len(c[(c['type']=='actress') & (c['year']>=1950) & (c['year']<=1959)]))"
   ]
  },
  {
   "cell_type": "code",
   "execution_count": 46,
   "id": "6f2c4a22",
   "metadata": {},
   "outputs": [
    {
     "data": {
      "text/plain": [
       "array(['actor', 'actress'], dtype=object)"
      ]
     },
     "execution_count": 46,
     "metadata": {},
     "output_type": "execute_result"
    }
   ],
   "source": [
    "(c['type']).unique()"
   ]
  },
  {
   "cell_type": "code",
   "execution_count": 4,
   "id": "5dbe5b7f",
   "metadata": {},
   "outputs": [
    {
     "name": "stdout",
     "output_type": "stream",
     "text": [
      "63924\n"
     ]
    }
   ],
   "source": [
    "# How many leading roles (n=1) were available from the beginning of film history through 1980?\n",
    "print(len(c[(c['n']==1) & (c['year']<=1980)]))"
   ]
  },
  {
   "cell_type": "code",
   "execution_count": 5,
   "id": "14b29eca",
   "metadata": {},
   "outputs": [
    {
     "name": "stdout",
     "output_type": "stream",
     "text": [
      "1094780\n"
     ]
    }
   ],
   "source": [
    "# How many non-leading roles were available through from the beginning of film history through 1980?\n",
    "print(len(c[(c['n']!=1) & (c['year']<=1980)]))"
   ]
  },
  {
   "cell_type": "code",
   "execution_count": 7,
   "id": "0a625a6b",
   "metadata": {},
   "outputs": [
    {
     "name": "stdout",
     "output_type": "stream",
     "text": [
      "438086\n"
     ]
    }
   ],
   "source": [
    "# How many roles through 1980 were minor enough that they did not warrant a numeric \"n\" rank?\n",
    "print(len(c[(c['n'].isnull()) & (c['year']<=1980)]))"
   ]
  },
  {
   "cell_type": "code",
   "execution_count": null,
   "id": "f99e8db0",
   "metadata": {},
   "outputs": [],
   "source": []
  },
  {
   "cell_type": "code",
   "execution_count": null,
   "id": "2fd403c3",
   "metadata": {},
   "outputs": [],
   "source": []
  },
  {
   "cell_type": "code",
   "execution_count": null,
   "id": "a3ebd71d",
   "metadata": {},
   "outputs": [],
   "source": []
  },
  {
   "cell_type": "code",
   "execution_count": null,
   "id": "4c0d3733",
   "metadata": {},
   "outputs": [],
   "source": []
  },
  {
   "cell_type": "code",
   "execution_count": null,
   "id": "a6dc8446",
   "metadata": {},
   "outputs": [],
   "source": []
  },
  {
   "cell_type": "code",
   "execution_count": null,
   "id": "41872028",
   "metadata": {},
   "outputs": [],
   "source": []
  },
  {
   "cell_type": "code",
   "execution_count": null,
   "id": "fd8c1bf6",
   "metadata": {},
   "outputs": [],
   "source": []
  },
  {
   "cell_type": "code",
   "execution_count": null,
   "id": "47bd00b6",
   "metadata": {},
   "outputs": [],
   "source": []
  },
  {
   "cell_type": "code",
   "execution_count": null,
   "id": "b8f3b7b8",
   "metadata": {},
   "outputs": [],
   "source": []
  },
  {
   "cell_type": "code",
   "execution_count": null,
   "id": "dad663dc",
   "metadata": {},
   "outputs": [],
   "source": []
  },
  {
   "cell_type": "code",
   "execution_count": null,
   "id": "3995b01b",
   "metadata": {},
   "outputs": [],
   "source": []
  },
  {
   "cell_type": "code",
   "execution_count": null,
   "id": "8d8585cb",
   "metadata": {},
   "outputs": [],
   "source": []
  },
  {
   "cell_type": "code",
   "execution_count": null,
   "id": "a662acc6",
   "metadata": {},
   "outputs": [],
   "source": []
  },
  {
   "cell_type": "code",
   "execution_count": null,
   "id": "5fa31467",
   "metadata": {},
   "outputs": [],
   "source": []
  }
 ],
 "metadata": {
  "kernelspec": {
   "display_name": "Python 3 (ipykernel)",
   "language": "python",
   "name": "python3"
  },
  "language_info": {
   "codemirror_mode": {
    "name": "ipython",
    "version": 3
   },
   "file_extension": ".py",
   "mimetype": "text/x-python",
   "name": "python",
   "nbconvert_exporter": "python",
   "pygments_lexer": "ipython3",
   "version": "3.11.5"
  }
 },
 "nbformat": 4,
 "nbformat_minor": 5
}
